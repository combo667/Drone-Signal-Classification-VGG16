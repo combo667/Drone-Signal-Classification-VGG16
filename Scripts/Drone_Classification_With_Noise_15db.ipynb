{
  "cells": [
    {
      "cell_type": "code",
      "execution_count": 1,
      "metadata": {
        "colab": {
          "base_uri": "https://localhost:8080/"
        },
        "id": "A41OnIarWMDd",
        "outputId": "5cb12176-677a-4183-f313-c045d4eb309c"
      },
      "outputs": [
        {
          "output_type": "stream",
          "name": "stdout",
          "text": [
            "Mounted at /content/drive\n"
          ]
        }
      ],
      "source": [
        "from google.colab import drive\n",
        "drive.mount('/content/drive')\n"
      ]
    },
    {
      "cell_type": "code",
      "execution_count": 2,
      "metadata": {
        "colab": {
          "base_uri": "https://localhost:8080/",
          "height": 35
        },
        "id": "Qpth-JCvX8RH",
        "outputId": "cb145803-80e4-41ab-977b-1187d49f84e5"
      },
      "outputs": [
        {
          "output_type": "execute_result",
          "data": {
            "text/plain": [
              "'/content/Spectrograms_Drones.zip'"
            ],
            "application/vnd.google.colaboratory.intrinsic+json": {
              "type": "string"
            }
          },
          "metadata": {},
          "execution_count": 2
        }
      ],
      "source": [
        "import shutil\n",
        "\n",
        "# Path to the file in Google Drive\n",
        "file_path = '/content/drive/My Drive/Spectrograms_Drones.zip'\n",
        "\n",
        "# Destination path in /content/\n",
        "destination_path = '/content/Spectrograms_Drones.zip'\n",
        "\n",
        "# Copy the file\n",
        "shutil.copy(file_path, destination_path)\n"
      ]
    },
    {
      "cell_type": "code",
      "execution_count": 3,
      "metadata": {
        "colab": {
          "base_uri": "https://localhost:8080/"
        },
        "id": "a6G_t275YKvP",
        "outputId": "ebe75786-c359-427a-9032-bf03122cc1d0"
      },
      "outputs": [
        {
          "output_type": "stream",
          "name": "stdout",
          "text": [
            "Extracted 'Spectrograms_Drones.zip' to '/content/'\n"
          ]
        }
      ],
      "source": [
        "import zipfile\n",
        "\n",
        "zip_path = 'Spectrograms_Drones.zip'  # Replace with the path to your zip file\n",
        "extract_to = '/content/'  # Replace with the directory where you want to extract the contents\n",
        "\n",
        "with zipfile.ZipFile(zip_path, 'r') as zip_ref:\n",
        "    zip_ref.extractall(extract_to)\n",
        "\n",
        "print(f\"Extracted '{zip_path}' to '{extract_to}'\")\n"
      ]
    },
    {
      "cell_type": "code",
      "execution_count": null,
      "metadata": {
        "id": "TiAb96ogfZrQ"
      },
      "outputs": [],
      "source": []
    },
    {
      "cell_type": "code",
      "execution_count": 4,
      "metadata": {
        "colab": {
          "base_uri": "https://localhost:8080/"
        },
        "id": "g41DpGBtYhOp",
        "outputId": "43acd570-7a4d-426f-da3c-a068fc226829"
      },
      "outputs": [
        {
          "output_type": "stream",
          "name": "stdout",
          "text": [
            "Collecting split-folders\n",
            "  Downloading split_folders-0.5.1-py3-none-any.whl (8.4 kB)\n",
            "Installing collected packages: split-folders\n",
            "Successfully installed split-folders-0.5.1\n"
          ]
        }
      ],
      "source": [
        "pip install split-folders"
      ]
    },
    {
      "cell_type": "code",
      "execution_count": 5,
      "metadata": {
        "colab": {
          "base_uri": "https://localhost:8080/"
        },
        "id": "O8dd1Jb4YuqL",
        "outputId": "cf649fae-e1be-421c-9020-a79443195ec4"
      },
      "outputs": [
        {
          "output_type": "stream",
          "name": "stderr",
          "text": [
            "Copying files: 3204 files [00:02, 1353.43 files/s]\n"
          ]
        },
        {
          "output_type": "stream",
          "name": "stdout",
          "text": [
            "Found 2240 images belonging to 4 classes.\n",
            "Found 640 images belonging to 4 classes.\n",
            "Found 324 images belonging to 4 classes.\n",
            "Downloading data from https://storage.googleapis.com/tensorflow/keras-applications/vgg16/vgg16_weights_tf_dim_ordering_tf_kernels_notop.h5\n",
            "58889256/58889256 [==============================] - 4s 0us/step\n",
            "Model: \"sequential\"\n",
            "_________________________________________________________________\n",
            " Layer (type)                Output Shape              Param #   \n",
            "=================================================================\n",
            " vgg16 (Functional)          (None, 7, 7, 512)         14714688  \n",
            "                                                                 \n",
            " flatten (Flatten)           (None, 25088)             0         \n",
            "                                                                 \n",
            " dense (Dense)               (None, 512)               12845568  \n",
            "                                                                 \n",
            " dropout (Dropout)           (None, 512)               0         \n",
            "                                                                 \n",
            " dense_1 (Dense)             (None, 4)                 2052      \n",
            "                                                                 \n",
            "=================================================================\n",
            "Total params: 27562308 (105.14 MB)\n",
            "Trainable params: 12847620 (49.01 MB)\n",
            "Non-trainable params: 14714688 (56.13 MB)\n",
            "_________________________________________________________________\n"
          ]
        }
      ],
      "source": [
        "import numpy as np\n",
        "import splitfolders\n",
        "import tensorflow.keras as keras\n",
        "import tensorflow as tf\n",
        "from keras.models import Sequential\n",
        "from keras.layers import Dense, Conv2D, MaxPool2D, Flatten,Dropout\n",
        "from tensorflow.keras.preprocessing.image import ImageDataGenerator,load_img\n",
        "from tensorflow.keras.applications import VGG16\n",
        "import matplotlib.pyplot as plt\n",
        "from keras.optimizers import Adam\n",
        "from keras.callbacks import ModelCheckpoint, EarlyStopping\n",
        "from keras.losses import categorical_crossentropy\n",
        "import os\n",
        "from sklearn.metrics import confusion_matrix, ConfusionMatrixDisplay\n",
        "\n",
        "splitfolders.ratio('/content/Spectrograms_Drones',output='/content/datasplit', seed=1337, ratio=(0.7,0.2,0.1),group_prefix=None, move=False)\n",
        "\n",
        "class_names=[\"elsec\",\"mavic_classic\",\"mavic_pro\",\"phantom_pro\"]\n",
        "\n",
        "#weights_path = 'E:/Drone_Signal_Classification/WITH_NOISE/Elsec_Dataset/weights/vgg16_weights_tf_dim_ordering_tf_kernels_notop.h5'\n",
        "\n",
        "\n",
        "datagen = ImageDataGenerator(rescale = 1./255)\n",
        "\n",
        "train_generator = datagen.flow_from_directory(\n",
        "    directory = \"/content/datasplit/train\",\n",
        "    classes = class_names,\n",
        "    target_size = (224,224),\n",
        "    batch_size = 8,\n",
        "    class_mode = \"categorical\",\n",
        "    subset=\"training\"\n",
        ")\n",
        "\n",
        "\n",
        "valid_generator = datagen.flow_from_directory(\n",
        "    directory = \"/content/datasplit/val\",\n",
        "    classes = class_names,\n",
        "    target_size = (224,224),\n",
        "    batch_size = 8,\n",
        "    class_mode = \"categorical\",\n",
        ")\n",
        "\n",
        "test_generator = datagen.flow_from_directory(\n",
        "    directory = \"/content/datasplit/test\",\n",
        "    classes = class_names,\n",
        "    target_size = (224,224),\n",
        "    batch_size = 4,\n",
        "    class_mode = \"categorical\",\n",
        ")\n",
        "\n",
        "\n",
        "model_vgg16 = VGG16(input_shape=(224,224,3),include_top = False,weights =\"imagenet\")\n",
        "\n",
        "for layer in model_vgg16.layers:\n",
        "  layer.trainable=False\n",
        "\n",
        "\n",
        "model = Sequential()\n",
        "model.add(model_vgg16)\n",
        "model.add(Flatten())\n",
        "model.add(Dense(512,activation = \"relu\"))\n",
        "model.add(Dropout(0.5))\n",
        "model.add(Dense(4,activation =\"softmax\"))\n",
        "\n",
        "model.summary()\n",
        "\n",
        "model.compile(optimizer=\"adam\",loss=\"categorical_crossentropy\",metrics =[\"accuracy\"])\n",
        "\n"
      ]
    },
    {
      "cell_type": "code",
      "execution_count": 6,
      "metadata": {
        "colab": {
          "base_uri": "https://localhost:8080/"
        },
        "id": "abOIrxVrY7jB",
        "outputId": "e3cca0ac-0c09-4c83-ee0a-b47d88270b57"
      },
      "outputs": [
        {
          "output_type": "stream",
          "name": "stdout",
          "text": [
            "Epoch 1/25\n",
            "280/280 [==============================] - 25s 67ms/step - loss: 0.4227 - accuracy: 0.8902 - val_loss: 0.0195 - val_accuracy: 1.0000\n",
            "Epoch 2/25\n",
            "280/280 [==============================] - 18s 63ms/step - loss: 0.0249 - accuracy: 0.9969 - val_loss: 0.0020 - val_accuracy: 1.0000\n",
            "Epoch 3/25\n",
            "280/280 [==============================] - 18s 65ms/step - loss: 0.0092 - accuracy: 0.9991 - val_loss: 5.5647e-04 - val_accuracy: 1.0000\n",
            "Epoch 4/25\n",
            "280/280 [==============================] - 18s 64ms/step - loss: 0.0039 - accuracy: 1.0000 - val_loss: 2.5117e-04 - val_accuracy: 1.0000\n",
            "Epoch 5/25\n",
            "280/280 [==============================] - 20s 70ms/step - loss: 0.0865 - accuracy: 0.9710 - val_loss: 0.0158 - val_accuracy: 1.0000\n",
            "Epoch 6/25\n",
            "280/280 [==============================] - 18s 65ms/step - loss: 0.0888 - accuracy: 0.9679 - val_loss: 0.0157 - val_accuracy: 1.0000\n",
            "Epoch 7/25\n",
            "280/280 [==============================] - 18s 64ms/step - loss: 0.0949 - accuracy: 0.9594 - val_loss: 0.0015 - val_accuracy: 1.0000\n",
            "Epoch 8/25\n",
            "280/280 [==============================] - 18s 64ms/step - loss: 0.1026 - accuracy: 0.9536 - val_loss: 0.0037 - val_accuracy: 1.0000\n",
            "Epoch 9/25\n",
            "280/280 [==============================] - 19s 69ms/step - loss: 0.0970 - accuracy: 0.9554 - val_loss: 0.0031 - val_accuracy: 1.0000\n",
            "Epoch 10/25\n",
            "280/280 [==============================] - 18s 65ms/step - loss: 0.1264 - accuracy: 0.9451 - val_loss: 0.0034 - val_accuracy: 1.0000\n",
            "Epoch 11/25\n",
            "280/280 [==============================] - 18s 64ms/step - loss: 0.1358 - accuracy: 0.9420 - val_loss: 3.9487e-04 - val_accuracy: 1.0000\n",
            "Epoch 12/25\n",
            "280/280 [==============================] - 18s 65ms/step - loss: 0.1951 - accuracy: 0.9125 - val_loss: 1.3197e-04 - val_accuracy: 1.0000\n",
            "Epoch 13/25\n",
            "280/280 [==============================] - 18s 65ms/step - loss: 0.1805 - accuracy: 0.9165 - val_loss: 6.4996e-05 - val_accuracy: 1.0000\n",
            "Epoch 14/25\n",
            "280/280 [==============================] - 19s 69ms/step - loss: 0.1666 - accuracy: 0.9272 - val_loss: 1.1483e-04 - val_accuracy: 1.0000\n",
            "Epoch 15/25\n",
            "280/280 [==============================] - 18s 64ms/step - loss: 0.1570 - accuracy: 0.9362 - val_loss: 9.3456e-05 - val_accuracy: 1.0000\n",
            "Epoch 16/25\n",
            "280/280 [==============================] - 18s 64ms/step - loss: 0.1721 - accuracy: 0.9263 - val_loss: 8.7913e-06 - val_accuracy: 1.0000\n",
            "Epoch 17/25\n",
            "280/280 [==============================] - 18s 64ms/step - loss: 0.2142 - accuracy: 0.8978 - val_loss: 3.8048e-04 - val_accuracy: 1.0000\n",
            "Epoch 18/25\n",
            "280/280 [==============================] - 18s 64ms/step - loss: 0.2307 - accuracy: 0.8929 - val_loss: 3.9013e-04 - val_accuracy: 1.0000\n",
            "Epoch 19/25\n",
            "280/280 [==============================] - 18s 64ms/step - loss: 0.2131 - accuracy: 0.9080 - val_loss: 1.4904e-04 - val_accuracy: 1.0000\n",
            "Epoch 20/25\n",
            "280/280 [==============================] - 18s 65ms/step - loss: 0.2051 - accuracy: 0.9098 - val_loss: 5.9767e-05 - val_accuracy: 1.0000\n",
            "Epoch 21/25\n",
            "280/280 [==============================] - 18s 65ms/step - loss: 0.2580 - accuracy: 0.8786 - val_loss: 0.0067 - val_accuracy: 1.0000\n",
            "Epoch 22/25\n",
            "280/280 [==============================] - 18s 64ms/step - loss: 0.2553 - accuracy: 0.8844 - val_loss: 2.7182e-04 - val_accuracy: 1.0000\n",
            "Epoch 23/25\n",
            "280/280 [==============================] - 18s 64ms/step - loss: 0.2838 - accuracy: 0.8893 - val_loss: 0.0056 - val_accuracy: 1.0000\n",
            "Epoch 24/25\n",
            "280/280 [==============================] - 18s 64ms/step - loss: 0.3309 - accuracy: 0.8723 - val_loss: 0.0345 - val_accuracy: 1.0000\n",
            "Epoch 25/25\n",
            "280/280 [==============================] - 18s 63ms/step - loss: 0.2983 - accuracy: 0.8813 - val_loss: 0.0269 - val_accuracy: 1.0000\n"
          ]
        }
      ],
      "source": [
        "history = model.fit(train_generator,validation_data = valid_generator,epochs = 25)"
      ]
    },
    {
      "cell_type": "code",
      "execution_count": 7,
      "metadata": {
        "colab": {
          "base_uri": "https://localhost:8080/"
        },
        "id": "ZcWYyb19czkK",
        "outputId": "6ad446cb-5efa-4db5-fbff-194141f4c10b"
      },
      "outputs": [
        {
          "output_type": "stream",
          "name": "stdout",
          "text": [
            "81/81 [==============================] - 4s 27ms/step - loss: 0.0281 - accuracy: 1.0000\n",
            "test loss:  0.028078844770789146\n",
            "test accuracy:  100.0\n"
          ]
        }
      ],
      "source": [
        "test_loss, test_acc = model.evaluate(test_generator)\n",
        "print(\"test loss: \", test_loss)\n",
        "print(\"test accuracy: \", test_acc*100)"
      ]
    },
    {
      "cell_type": "code",
      "execution_count": null,
      "metadata": {
        "id": "A0HaR7fzg1cQ"
      },
      "outputs": [],
      "source": [
        "import os\n",
        "import glob\n",
        "\n",
        "# Set the path to your folder\n",
        "folder_path = '/content/datasplit/test/elsec'\n",
        "\n",
        "# Loop through all files in the folder\n",
        "for filename in glob.glob(os.path.join(folder_path, '*')):\n",
        "    print('Processing file:', filename)\n"
      ]
    },
    {
      "cell_type": "code",
      "execution_count": null,
      "metadata": {
        "id": "KgfQo-RDf8Y2"
      },
      "outputs": [],
      "source": [
        "from tensorflow.keras.preprocessing import image\n",
        "\n",
        "\n",
        "results = []\n",
        "folder_path = '/content/datasplit/test/mavic_classic'\n",
        "for filename in glob.glob(os.path.join(folder_path, '*')):\n",
        "    img_path = filename\n",
        "    img = image.load_img(img_path, target_size=(224, 224))  # Resize to match model input\n",
        "    img_array = image.img_to_array(img)  # Convert to numpy array\n",
        "    img_array = np.expand_dims(img_array, axis=0)  # Add batch dimension\n",
        "    img_array /= 255.0\n",
        "\n",
        "    y_pred = model.predict(img_array)\n",
        "    predicted_class_index = np.argmax(y_pred, axis=1)\n",
        "    results.append(predicted_class_index[0])\n",
        "print(results)"
      ]
    },
    {
      "cell_type": "code",
      "source": [
        "class_names=[\"1.elsec\",\"2.mavic_classic\",\"3.mavic_pro\",\"4.phantom_pro\"]\n",
        "test_generator = datagen.flow_from_directory(\n",
        "    directory = \"/content/datasplit/test\",\n",
        "    classes = class_names,\n",
        "    target_size = (224,224),\n",
        "    batch_size = 4,\n",
        "    class_mode = \"categorical\",\n",
        "    shuffle = False\n",
        ")"
      ],
      "metadata": {
        "colab": {
          "base_uri": "https://localhost:8080/"
        },
        "id": "WI1yBfMoztAT",
        "outputId": "4099333f-bfea-4a2c-cc59-14c15048dbe7"
      },
      "execution_count": 11,
      "outputs": [
        {
          "output_type": "stream",
          "name": "stdout",
          "text": [
            "Found 324 images belonging to 4 classes.\n"
          ]
        }
      ]
    },
    {
      "cell_type": "code",
      "execution_count": 12,
      "metadata": {
        "colab": {
          "base_uri": "https://localhost:8080/",
          "height": 802
        },
        "id": "HYQmYYGthwsU",
        "outputId": "63b2f423-f9d9-480d-df47-9f35da575c9f"
      },
      "outputs": [
        {
          "output_type": "stream",
          "name": "stdout",
          "text": [
            "[0 0 0 0 0 0 0 0 0 0 0 0 0 0 0 0 0 0 0 0 0 0 0 0 0 0 0 0 0 0 0 0 0 0 0 0 0\n",
            " 0 0 0 0 0 0 0 0 0 0 0 0 0 0 0 0 0 0 0 0 0 0 0 0 0 0 0 0 0 0 0 0 0 0 0 0 0\n",
            " 0 0 0 0 0 0 0 1 1 1 1 1 1 1 1 1 1 1 1 1 1 1 1 1 1 1 1 1 1 1 1 1 1 1 1 1 1\n",
            " 1 1 1 1 1 1 1 1 1 1 1 1 1 1 1 1 1 1 1 1 1 1 1 1 1 1 1 1 1 1 1 1 1 1 1 1 1\n",
            " 1 1 1 1 1 1 1 1 1 1 1 1 1 1 2 2 2 2 2 2 2 2 2 2 2 2 2 2 2 2 2 2 2 2 2 2 2\n",
            " 2 2 2 2 2 2 2 2 2 2 2 2 2 2 2 2 2 2 2 2 2 2 2 2 2 2 2 2 2 2 2 2 2 2 2 2 2\n",
            " 2 2 2 2 2 2 2 2 2 2 2 2 2 2 2 2 2 2 2 2 2 3 3 3 3 3 3 3 3 3 3 3 3 3 3 3 3\n",
            " 3 3 3 3 3 3 3 3 3 3 3 3 3 3 3 3 3 3 3 3 3 3 3 3 3 3 3 3 3 3 3 3 3 3 3 3 3\n",
            " 3 3 3 3 3 3 3 3 3 3 3 3 3 3 3 3 3 3 3 3 3 3 3 3 3 3 3 3]\n",
            "81/81 [==============================] - 3s 30ms/step\n",
            "[0 0 0 0 0 0 0 0 0 0 0 0 0 0 0 0 0 0 0 0 0 0 0 0 0 0 0 0 0 0 0 0 0 0 0 0 0\n",
            " 0 0 0 0 0 0 0 0 0 0 0 0 0 0 0 0 0 0 0 0 0 0 0 0 0 0 0 0 0 0 0 0 0 0 0 0 0\n",
            " 0 0 0 0 0 0 0 1 1 1 1 1 1 1 1 1 1 1 1 1 1 1 1 1 1 1 1 1 1 1 1 1 1 1 1 1 1\n",
            " 1 1 1 1 1 1 1 1 1 1 1 1 1 1 1 1 1 1 1 1 1 1 1 1 1 1 1 1 1 1 1 1 1 1 1 1 1\n",
            " 1 1 1 1 1 1 1 1 1 1 1 1 1 1 2 2 2 2 2 2 2 2 2 2 2 2 2 2 2 2 2 2 2 2 2 2 2\n",
            " 2 2 2 2 2 2 2 2 2 2 2 2 2 2 2 2 2 2 2 2 2 2 2 2 2 2 2 2 2 2 2 2 2 2 2 2 2\n",
            " 2 2 2 2 2 2 2 2 2 2 2 2 2 2 2 2 2 2 2 2 2 3 3 3 3 3 3 3 3 3 3 3 3 3 3 3 3\n",
            " 3 3 3 3 3 3 3 3 3 3 3 3 3 3 3 3 3 3 3 3 3 3 3 3 3 3 3 3 3 3 3 3 3 3 3 3 3\n",
            " 3 3 3 3 3 3 3 3 3 3 3 3 3 3 3 3 3 3 3 3 3 3 3 3 3 3 3 3]\n"
          ]
        },
        {
          "output_type": "display_data",
          "data": {
            "text/plain": [
              "<Figure size 640x480 with 2 Axes>"
            ],
            "image/png": "[encoded data removed]"
          },
          "metadata": {}
        }
      ],
      "source": [
        "\n",
        "\n",
        "\n",
        "y_true =test_generator.classes\n",
        "print(y_true)\n",
        "y_pred=model.predict(test_generator)\n",
        "y_pred=np.argmax(y_pred,axis=1)\n",
        "print(y_pred)\n",
        "cm=confusion_matrix(y_true, y_pred)\n",
        "disp=ConfusionMatrixDisplay(confusion_matrix=cm, display_labels=class_names)\n",
        "disp.plot()\n",
        "plt.title('Confusion Matrix')\n",
        "plt.show()"
      ]
    },
    {
      "cell_type": "code",
      "execution_count": 13,
      "metadata": {
        "id": "SISSP0bxeHlI"
      },
      "outputs": [],
      "source": [
        "model.save('/content/VGG16_model_for_Drone_With_Noise_new.keras',save_format='tf')"
      ]
    },
    {
      "cell_type": "code",
      "source": [
        "model.save('VGG16_Drone_Model.h5')"
      ],
      "metadata": {
        "colab": {
          "base_uri": "https://localhost:8080/"
        },
        "id": "6fXPtink0T7X",
        "outputId": "05d1eef8-1392-4e8e-d143-c451bae58590"
      },
      "execution_count": 14,
      "outputs": [
        {
          "output_type": "stream",
          "name": "stderr",
          "text": [
            "/usr/local/lib/python3.10/dist-packages/keras/src/engine/training.py:3103: UserWarning: You are saving your model as an HDF5 file via `model.save()`. This file format is considered legacy. We recommend using instead the native Keras format, e.g. `model.save('my_model.keras')`.\n",
            "  saving_api.save_model(\n"
          ]
        }
      ]
    },
    {
      "cell_type": "code",
      "execution_count": null,
      "metadata": {
        "colab": {
          "base_uri": "https://localhost:8080/",
          "height": 36
        },
        "id": "WavCerhoeSqx",
        "outputId": "ad90d18b-5904-4e7e-f22a-81069dfc0b58"
      },
      "outputs": [
        {
          "data": {
            "application/vnd.google.colaboratory.intrinsic+json": {
              "type": "string"
            },
            "text/plain": [
              "'/content/test.zip'"
            ]
          },
          "execution_count": 18,
          "metadata": {},
          "output_type": "execute_result"
        }
      ],
      "source": [
        "file_path = '/content/drive/My Drive/test.zip'\n",
        "\n",
        "# Destination path in /content/\n",
        "destination_path = '/content/test.zip'\n",
        "\n",
        "# Copy the file\n",
        "shutil.copy(file_path, destination_path)"
      ]
    },
    {
      "cell_type": "code",
      "execution_count": null,
      "metadata": {
        "colab": {
          "base_uri": "https://localhost:8080/"
        },
        "id": "s5CMqN7LfbKF",
        "outputId": "4434f3d4-211e-4a32-958b-e20d9599619d"
      },
      "outputs": [
        {
          "name": "stdout",
          "output_type": "stream",
          "text": [
            "Extracted 'test.zip' to '/content/'\n"
          ]
        }
      ],
      "source": [
        "zip_path = 'test.zip'  # Replace with the path to your zip file\n",
        "extract_to = '/content/'  # Replace with the directory where you want to extract the contents\n",
        "\n",
        "with zipfile.ZipFile(zip_path, 'r') as zip_ref:\n",
        "    zip_ref.extractall(extract_to)\n",
        "\n",
        "print(f\"Extracted '{zip_path}' to '{extract_to}'\")"
      ]
    },
    {
      "cell_type": "code",
      "source": [],
      "metadata": {
        "id": "0nxFDe312kda"
      },
      "execution_count": null,
      "outputs": []
    },
    {
      "cell_type": "code",
      "execution_count": 17,
      "metadata": {
        "id": "jBYXjCf4fgZj",
        "colab": {
          "base_uri": "https://localhost:8080/"
        },
        "outputId": "6be8e151-d5c8-41f5-84a2-d0dff7a0c716"
      },
      "outputs": [
        {
          "output_type": "stream",
          "name": "stdout",
          "text": [
            "Precision: 1.00\n",
            "Recall: 1.00\n"
          ]
        }
      ],
      "source": [
        "from sklearn.metrics import precision_score,recall_score\n",
        "\n",
        "precision = precision_score(y_true, y_pred, average='weighted')\n",
        "recall = recall_score(y_true, y_pred, average='weighted')\n",
        "\n",
        "print(f'Precision: {precision:.2f}')\n",
        "print(f'Recall: {recall:.2f}')"
      ]
    }
  ],
  "metadata": {
    "accelerator": "GPU",
    "colab": {
      "gpuType": "T4",
      "provenance": []
    },
    "kernelspec": {
      "display_name": "Python 3",
      "name": "python3"
    },
    "language_info": {
      "name": "python"
    }
  },
  "nbformat": 4,
  "nbformat_minor": 0
}